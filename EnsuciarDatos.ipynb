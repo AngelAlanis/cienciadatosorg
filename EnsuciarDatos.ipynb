{
  "nbformat": 4,
  "nbformat_minor": 0,
  "metadata": {
    "colab": {
      "provenance": []
    },
    "kernelspec": {
      "name": "python3",
      "display_name": "Python 3"
    },
    "language_info": {
      "name": "python"
    }
  },
  "cells": [
    {
      "cell_type": "markdown",
      "source": [
        "Práctica de ensuciar datos"
      ],
      "metadata": {
        "id": "rDrvPpedBfVc"
      }
    },
    {
      "cell_type": "code",
      "execution_count": null,
      "metadata": {
        "id": "RNhs89XEBTbL"
      },
      "outputs": [],
      "source": [
        "# Importar librerías\n",
        "import pandas as pd\n",
        "import numpy as np\n",
        "import random"
      ]
    },
    {
      "cell_type": "code",
      "source": [
        "# Cargar los datos desde una URL\n",
        "url = 'https://raw.githubusercontent.com/rpizarrog/probabilidad-y-estad-stica/master/2023/datos/SolarPrediction.csv'\n",
        "datos = pd.read_csv(url)\n",
        "muestra_aleatoria = datos.head(3000)\n",
        "\n",
        "datos_limpios = muestra_aleatoria\n",
        "\n",
        "datos_limpios.info()"
      ],
      "metadata": {
        "colab": {
          "base_uri": "https://localhost:8080/"
        },
        "id": "snwHN9bzBlOn",
        "outputId": "e055aaa8-1a6d-409e-910f-94245981f6e7"
      },
      "execution_count": null,
      "outputs": [
        {
          "output_type": "stream",
          "name": "stdout",
          "text": [
            "<class 'pandas.core.frame.DataFrame'>\n",
            "RangeIndex: 3000 entries, 0 to 2999\n",
            "Data columns (total 11 columns):\n",
            " #   Column                  Non-Null Count  Dtype  \n",
            "---  ------                  --------------  -----  \n",
            " 0   UNIXTime                3000 non-null   int64  \n",
            " 1   Data                    3000 non-null   object \n",
            " 2   Time                    3000 non-null   object \n",
            " 3   Radiation               3000 non-null   float64\n",
            " 4   Temperature             3000 non-null   int64  \n",
            " 5   Pressure                3000 non-null   float64\n",
            " 6   Humidity                3000 non-null   int64  \n",
            " 7   WindDirection(Degrees)  3000 non-null   float64\n",
            " 8   Speed                   3000 non-null   float64\n",
            " 9   TimeSunRise             3000 non-null   object \n",
            " 10  TimeSunSet              3000 non-null   object \n",
            "dtypes: float64(4), int64(3), object(4)\n",
            "memory usage: 257.9+ KB\n"
          ]
        }
      ]
    },
    {
      "cell_type": "code",
      "source": [
        "# Crear funciones para ensuciar datos\n",
        "\n",
        "# Introducir valores nulos en algunas columnas de manera aleatoria\n",
        "def introduce_nulls(df, column_name, fraction=0.10):\n",
        "    df.loc[df.sample(frac=fraction).index, column_name] = np.nan\n",
        "\n",
        "# Añadir valores atípicos (outliers) en una columna específica\n",
        "def add_outliers(df, column_name, factor=10, fraction=0.05):\n",
        "    outliers_idx = df.sample(frac=fraction).index\n",
        "    df.loc[outliers_idx, column_name] *= factor\n",
        "\n",
        "# Añadir ruido aleatorio a una columna numérica\n",
        "def add_noise(df, column_name, noise_factor=0.05):\n",
        "    noise = np.random.normal(0, noise_factor, size=df[column_name].shape)\n",
        "    df[column_name] += noise\n",
        "\n",
        "# Cambiar formato de fechas de manera inconsistente\n",
        "def corrupt_dates(df, column_name):\n",
        "    date_formats = [\"%d/%m/%Y\", \"%Y-%m-%d\", \"%m-%d-%Y\"]\n",
        "    corrupted_dates = df[column_name].apply(lambda x: pd.to_datetime(x).strftime(random.choice(date_formats)))\n",
        "    df[column_name] = corrupted_dates\n",
        "\n",
        "# Introducir errores en datos categóricos (por ejemplo, cambiar TimeSunRise o TimeSunSet)\n",
        "def introduce_categorical_errors(df, column_name, fraction=0.1):\n",
        "    unique_values = df[column_name].unique()\n",
        "    df.loc[df.sample(frac=fraction).index, column_name] = random.choice(unique_values)\n"
      ],
      "metadata": {
        "id": "7HqRaILEBx50"
      },
      "execution_count": null,
      "outputs": []
    },
    {
      "cell_type": "code",
      "source": [
        "# Ensuciar los datos\n",
        "datos_sucios = datos_limpios\n",
        "\n",
        "introduce_nulls(datos_sucios, 'Radiation', 0.13)  # 10% de valores nulos en la columna Radiation\n",
        "add_outliers(datos_sucios, 'Radiation', 10, 0.06)  # Valores atípicos en el 6% de la columna Radiation\n",
        "\n",
        "introduce_nulls(datos_sucios, 'Temperature', 0.08)  # 8% de valores nulos en la columna Temperature\n",
        "add_outliers(datos_sucios, 'Temperature', 10, 0.05)  # Valores atípicos en el 5% de la columna Temperature\n",
        "\n",
        "introduce_nulls(datos_sucios, 'Humidity', 0.11)  # 11% de valores nulos en la columna Humidity\n",
        "add_outliers(datos_sucios, 'Humidity', 10, 0.03)  # Valores atípicos en el 3% de la columna Humidity\n",
        "\n",
        "introduce_nulls(datos_sucios, 'Speed', 0.04)  # 4% de valores nulos en la columna Speed\n",
        "\n",
        "introduce_nulls(datos_sucios, 'Pressure', 0.02)  # 2% de valores nulos en la columna Radiation\n",
        "add_noise(datos_sucios, 'Pressure', 0.05)  # Añadir ruido en la columna Pressure\n",
        "\n",
        "corrupt_dates(datos_sucios, 'Data')  # Corromper el formato de las fechas en la columna Data\n",
        "\n",
        "introduce_categorical_errors(datos_sucios, 'TimeSunSet', 0.1)  # Introducir errores en la columna TimeSunSet"
      ],
      "metadata": {
        "colab": {
          "base_uri": "https://localhost:8080/"
        },
        "id": "TCEOi8J9B7c8",
        "outputId": "ca115cf2-6919-48e8-f956-17ea304ac608"
      },
      "execution_count": null,
      "outputs": [
        {
          "output_type": "stream",
          "name": "stderr",
          "text": [
            "<ipython-input-50-def23213a1c5>:15: SettingWithCopyWarning: \n",
            "A value is trying to be set on a copy of a slice from a DataFrame.\n",
            "Try using .loc[row_indexer,col_indexer] = value instead\n",
            "\n",
            "See the caveats in the documentation: https://pandas.pydata.org/pandas-docs/stable/user_guide/indexing.html#returning-a-view-versus-a-copy\n",
            "  df[column_name] += noise\n",
            "<ipython-input-50-def23213a1c5>:21: SettingWithCopyWarning: \n",
            "A value is trying to be set on a copy of a slice from a DataFrame.\n",
            "Try using .loc[row_indexer,col_indexer] = value instead\n",
            "\n",
            "See the caveats in the documentation: https://pandas.pydata.org/pandas-docs/stable/user_guide/indexing.html#returning-a-view-versus-a-copy\n",
            "  df[column_name] = corrupted_dates\n"
          ]
        }
      ]
    },
    {
      "cell_type": "code",
      "source": [
        "from google.colab import files\n",
        "\n",
        "# Guardar el archivo CSV en Colab\n",
        "datos_sucios.to_csv('datos_ensuciados.csv', index=False)\n",
        "\n",
        "# Descargar el archivo CSV a tu computadora local\n",
        "files.download('datos_ensuciados.csv')"
      ],
      "metadata": {
        "colab": {
          "base_uri": "https://localhost:8080/",
          "height": 17
        },
        "id": "shJfSI4IDHLQ",
        "outputId": "3156b835-65f2-4491-99b2-252bfdaa8362"
      },
      "execution_count": null,
      "outputs": [
        {
          "output_type": "display_data",
          "data": {
            "text/plain": [
              "<IPython.core.display.Javascript object>"
            ],
            "application/javascript": [
              "\n",
              "    async function download(id, filename, size) {\n",
              "      if (!google.colab.kernel.accessAllowed) {\n",
              "        return;\n",
              "      }\n",
              "      const div = document.createElement('div');\n",
              "      const label = document.createElement('label');\n",
              "      label.textContent = `Downloading \"${filename}\": `;\n",
              "      div.appendChild(label);\n",
              "      const progress = document.createElement('progress');\n",
              "      progress.max = size;\n",
              "      div.appendChild(progress);\n",
              "      document.body.appendChild(div);\n",
              "\n",
              "      const buffers = [];\n",
              "      let downloaded = 0;\n",
              "\n",
              "      const channel = await google.colab.kernel.comms.open(id);\n",
              "      // Send a message to notify the kernel that we're ready.\n",
              "      channel.send({})\n",
              "\n",
              "      for await (const message of channel.messages) {\n",
              "        // Send a message to notify the kernel that we're ready.\n",
              "        channel.send({})\n",
              "        if (message.buffers) {\n",
              "          for (const buffer of message.buffers) {\n",
              "            buffers.push(buffer);\n",
              "            downloaded += buffer.byteLength;\n",
              "            progress.value = downloaded;\n",
              "          }\n",
              "        }\n",
              "      }\n",
              "      const blob = new Blob(buffers, {type: 'application/binary'});\n",
              "      const a = document.createElement('a');\n",
              "      a.href = window.URL.createObjectURL(blob);\n",
              "      a.download = filename;\n",
              "      div.appendChild(a);\n",
              "      a.click();\n",
              "      div.remove();\n",
              "    }\n",
              "  "
            ]
          },
          "metadata": {}
        },
        {
          "output_type": "display_data",
          "data": {
            "text/plain": [
              "<IPython.core.display.Javascript object>"
            ],
            "application/javascript": [
              "download(\"download_b7f82195-19d4-40e2-b562-6278e51e5dc1\", \"datos_ensuciados.csv\", 279629)"
            ]
          },
          "metadata": {}
        }
      ]
    },
    {
      "cell_type": "code",
      "source": [
        "datos_limpios.info()\n",
        "datos_sucios.info()"
      ],
      "metadata": {
        "colab": {
          "base_uri": "https://localhost:8080/"
        },
        "id": "NrRK0DclCJBT",
        "outputId": "38ebffd7-81c9-467d-8cf0-0ffae32b0d55"
      },
      "execution_count": null,
      "outputs": [
        {
          "output_type": "stream",
          "name": "stdout",
          "text": [
            "<class 'pandas.core.frame.DataFrame'>\n",
            "RangeIndex: 3000 entries, 0 to 2999\n",
            "Data columns (total 11 columns):\n",
            " #   Column                  Non-Null Count  Dtype  \n",
            "---  ------                  --------------  -----  \n",
            " 0   UNIXTime                3000 non-null   int64  \n",
            " 1   Data                    3000 non-null   object \n",
            " 2   Time                    3000 non-null   object \n",
            " 3   Radiation               2610 non-null   float64\n",
            " 4   Temperature             2760 non-null   float64\n",
            " 5   Pressure                2940 non-null   float64\n",
            " 6   Humidity                2670 non-null   float64\n",
            " 7   WindDirection(Degrees)  3000 non-null   float64\n",
            " 8   Speed                   2880 non-null   float64\n",
            " 9   TimeSunRise             3000 non-null   object \n",
            " 10  TimeSunSet              3000 non-null   object \n",
            "dtypes: float64(6), int64(1), object(4)\n",
            "memory usage: 257.9+ KB\n",
            "<class 'pandas.core.frame.DataFrame'>\n",
            "RangeIndex: 3000 entries, 0 to 2999\n",
            "Data columns (total 11 columns):\n",
            " #   Column                  Non-Null Count  Dtype  \n",
            "---  ------                  --------------  -----  \n",
            " 0   UNIXTime                3000 non-null   int64  \n",
            " 1   Data                    3000 non-null   object \n",
            " 2   Time                    3000 non-null   object \n",
            " 3   Radiation               2610 non-null   float64\n",
            " 4   Temperature             2760 non-null   float64\n",
            " 5   Pressure                2940 non-null   float64\n",
            " 6   Humidity                2670 non-null   float64\n",
            " 7   WindDirection(Degrees)  3000 non-null   float64\n",
            " 8   Speed                   2880 non-null   float64\n",
            " 9   TimeSunRise             3000 non-null   object \n",
            " 10  TimeSunSet              3000 non-null   object \n",
            "dtypes: float64(6), int64(1), object(4)\n",
            "memory usage: 257.9+ KB\n"
          ]
        }
      ]
    }
  ]
}